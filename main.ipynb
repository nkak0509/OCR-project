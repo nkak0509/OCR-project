{
 "cells": [
  {
   "cell_type": "markdown",
   "metadata": {},
   "source": [
    "# Import library and set path for data"
   ]
  },
  {
   "cell_type": "code",
   "execution_count": 1,
   "metadata": {},
   "outputs": [],
   "source": [
    "import numpy as np\n",
    "import matplotlib.pyplot as plt\n",
    "train_images = \"Data\\\\train-images.idx3-ubyte\"\n",
    "train_labels = \"Data\\\\train-labels.idx1-ubyte\"\n",
    "test_images = \"Data\\\\t10k-images.idx3-ubyte\"\n",
    "test_labels = \"Data\\\\t10k-labels.idx1-ubyte\""
   ]
  },
  {
   "cell_type": "markdown",
   "metadata": {},
   "source": [
    "# Read data"
   ]
  },
  {
   "cell_type": "markdown",
   "metadata": {},
   "source": [
    "**TRAINING SET LABEL FILE (train-labels-idx1-ubyte):**\n",
    "| Offset | Type           | Value            | Description          |\n",
    "|:-------|:---------------|:-----------------|:---------------------|\n",
    "| 0000   | 32 bit integer | 0x00000801(2049) | magic number (MSB first) |\n",
    "| 0004   | 32 bit integer | 60000            | number of items      |\n",
    "| 0008   | unsigned byte  | ??               | label                |\n",
    "| 0009   | unsigned byte  | ??               | label                |\n",
    "| ...... | .............. | ............... | ...............      |\n",
    "| xxxx   | unsigned byte  | ??               | label                |\n",
    "\n",
    "The labels values are 0 to 9.\n",
    "\n",
    "**TRAINING SET IMAGE FILE (train-images-idx3-ubyte):**\n",
    "| Offset | Type           | Value            | Description          |\n",
    "|:-------|:---------------|:-----------------|:---------------------|\n",
    "| 0000   | 32 bit integer | 0x00000803(2051) | magic number         |\n",
    "| 0004   | 32 bit integer | 60000            | number of images     |\n",
    "| 0008   | 32 bit integer | 28               | number of rows       |\n",
    "| 0012   | 32 bit integer | 28               | number of columns    |\n",
    "| 0016   | unsigned byte  | ??               | pixel                |\n",
    "| 0017   | unsigned byte  | ??               | pixel                |\n",
    "| ...... | .............. | ............... | ...............      |\n",
    "| xxxx   | unsigned byte  | ??               | pixel                |\n",
    "\n",
    "Pixels are organized row-wise. Pixel values are 0 to 255. 0 means background (white), 255 means foreground (black).\n",
    "\n",
    "**TEST SET LABEL FILE (t10k-labels-idx1-ubyte):**\n",
    "| Offset | Type           | Value            | Description          |\n",
    "|:-------|:---------------|:-----------------|:---------------------|\n",
    "| 0000   | 32 bit integer | 0x00000801(2049) | magic number (MSB first) |\n",
    "| 0004   | 32 bit integer | 10000            | number of items      |\n",
    "| 0008   | unsigned byte  | ??               | label                |\n",
    "| 0009   | unsigned byte  | ??               | label                |\n",
    "| ...... | .............. | ............... | ...............      |\n",
    "| xxxx   | unsigned byte  | ??               | label                |\n",
    "\n",
    "The labels values are 0 to 9.\n",
    "\n",
    "**TEST SET IMAGE FILE (t10k-images-idx3-ubyte):**\n",
    "| Offset | Type           | Value            | Description          |\n",
    "|:-------|:---------------|:-----------------|:---------------------|\n",
    "| 0000   | 32 bit integer | 0x00000803(2051) | magic number         |\n",
    "| 0004   | 32 bit integer | 10000            | number of images     |\n",
    "| 0008   | 32 bit integer | 28               | number of rows       |\n",
    "| 0012   | 32 bit integer | 28               | number of columns    |\n",
    "| 0016   | unsigned byte  | ??               | pixel                |\n",
    "| 0017   | unsigned byte  | ??               | pixel                |\n",
    "| ...... | .............. | ............... | ...............      |\n",
    "| xxxx   | unsigned byte  | ??               | pixel                |\n"
   ]
  },
  {
   "cell_type": "code",
   "execution_count": 2,
   "metadata": {},
   "outputs": [],
   "source": [
    "def readLabel(filename,max_size = None):\n",
    "    with open(filename,\"rb\") as file:\n",
    "        list_labels = []\n",
    "        magic_num = int.from_bytes(file.read(4),\"big\") \n",
    "        num_items = int.from_bytes(file.read(4),\"big\")\n",
    "        if max_size:\n",
    "            num_items = max_size\n",
    "        for each_item in range(num_items):\n",
    "            each_label = int.from_bytes(file.read(1),\"big\") \n",
    "            list_labels.append(each_label)\n",
    "    return list_labels\n",
    "def readImage(filename,max_size = None):\n",
    "    with open(train_images,\"rb\") as file:\n",
    "        list_labels = []\n",
    "        magic_num = int.from_bytes(file.read(4),\"big\") \n",
    "        num_images = int.from_bytes(file.read(4),\"big\") \n",
    "        num_rows = int.from_bytes(file.read(4),\"big\")\n",
    "        num_cols = int.from_bytes(file.read(4),\"big\")\n",
    "        if max_size:\n",
    "            num_images = max_size\n",
    "        for each_image in range(num_images):\n",
    "            list_each_image = []\n",
    "            for each_row in range(num_rows):\n",
    "                #list_each_row = []\n",
    "                for each_col in range(num_cols):\n",
    "                    #list_each_row.append(int.from_bytes(file.read(1),\"big\"))\n",
    "                    list_each_image.append(int.from_bytes(file.read(1),\"big\"))\n",
    "                #list_each_image.append(list_each_row)\n",
    "            list_labels.append(list_each_image)\n",
    "        return list_labels\n",
    "    "
   ]
  },
  {
   "cell_type": "code",
   "execution_count": 3,
   "metadata": {},
   "outputs": [],
   "source": [
    "images_train_dataset = readImage(train_images,100)\n",
    "labels_train_dataset = readLabel(train_labels,100)\n",
    "images_test_dataset = readImage(test_images,100)\n",
    "labels_test_dataset = readLabel(test_labels,100)"
   ]
  },
  {
   "cell_type": "markdown",
   "metadata": {},
   "source": [
    "### Test transfer from list bytes to images"
   ]
  },
  {
   "cell_type": "code",
   "execution_count": 4,
   "metadata": {},
   "outputs": [
    {
     "name": "stdout",
     "output_type": "stream",
     "text": [
      "100\n",
      "784\n"
     ]
    }
   ],
   "source": [
    "print(len(images_train_dataset))\n",
    "print(len(images_train_dataset[0]))"
   ]
  },
  {
   "cell_type": "code",
   "execution_count": 23,
   "metadata": {},
   "outputs": [
    {
     "name": "stdout",
     "output_type": "stream",
     "text": [
      "100\n"
     ]
    },
    {
     "data": {
      "image/png": "[encoded data removed]",
      "text/plain": [
       "<Figure size 640x480 with 1 Axes>"
      ]
     },
     "metadata": {},
     "output_type": "display_data"
    },
    {
     "name": "stdout",
     "output_type": "stream",
     "text": [
      "2\n"
     ]
    }
   ],
   "source": [
    "print(len(images_test_dataset))\n",
    "import matplotlib.pyplot as plt\n",
    "image_array = np.array(images_test_dataset[1])\n",
    "image_matrix = image_array.reshape(28, 28)\n",
    "image = np.asarray(image_matrix).squeeze()\n",
    "plt.imshow(image)\n",
    "plt.show()\n",
    "print(labels_test_dataset[1])"
   ]
  },
  {
   "cell_type": "markdown",
   "metadata": {},
   "source": [
    "# K-NN model"
   ]
  },
  {
   "cell_type": "code",
   "execution_count": 25,
   "metadata": {},
   "outputs": [],
   "source": [
    "def Euclidean(x, y):\n",
    "    return (sum((x_i-y_i)**2 for x_i,y_i in zip(x,y)))**0.5\n",
    "# vector1 = [1, 2, 3]\n",
    "# vector2 = [4, 5, 6]\n",
    "# print(Euclidean(vector1,vector2))\n",
    "def matrixDistance(trains,test): #calculate the distance between 1 test list to [] train lists\n",
    "    list_distance = []\n",
    "    for train_image in trains:\n",
    "        list_distance.append(Euclidean(train_image,test))\n",
    "    return list_distance\n",
    "\n",
    "def knn(images_train,images_test,labels_train,k=5):\n",
    "    y_test = []\n",
    "    for each_test_image in images_test:\n",
    "        distance = matrixDistance(images_train,each_test_image) #1-dimension list\n",
    "        k_nearest_indices = np.argsort(distance)[:k]\n",
    "        k_nearest_labels = [labels_train[i] for i in k_nearest_indices]\n",
    "        label_counts = {}\n",
    "        for label in k_nearest_labels:\n",
    "            label_counts[label] = label_counts.get(label, 0) + 1\n",
    "        # Find majority label\n",
    "        majority_label = max(label_counts, key=label_counts.get)\n",
    "        y_test.append(majority_label)\n",
    "    return y_test"
   ]
  },
  {
   "cell_type": "code",
   "execution_count": 26,
   "metadata": {},
   "outputs": [
    {
     "name": "stdout",
     "output_type": "stream",
     "text": [
      "[3, 0, 4, 1, 9, 9, 1, 3, 1, 4, 3, 5, 3, 6, 1, 7, 7, 8, 6, 9, 4, 0, 9, 1, 1, 2, 4, 3, 7, 7, 3, 8, 6, 7, 0, 5, 6, 0, 7, 6, 1, 8, 7, 9, 3, 9, 1, 5, 3, 3, 3, 0, 7, 4, 9, 8, 0, 9, 4, 1, 4, 1, 6, 0, 6, 5, 6, 1, 0, 0, 1, 7, 1, 6, 3, 0, 1, 1, 1, 7, 9, 0, 2, 6, 7, 8, 1, 9, 0, 4, 6, 7, 4, 6, 8, 0, 9, 8, 3, 1]\n"
     ]
    }
   ],
   "source": [
    "result = knn(images_train_dataset,images_test_dataset,labels_train_dataset)\n",
    "print(result)"
   ]
  },
  {
   "cell_type": "markdown",
   "metadata": {},
   "source": [
    "## CNN - Convolutional Neural Network"
   ]
  },
  {
   "cell_type": "code",
   "execution_count": null,
   "metadata": {},
   "outputs": [],
   "source": []
  }
 ],
 "metadata": {
  "kernelspec": {
   "display_name": "Python 3 (ipykernel)",
   "language": "python",
   "name": "python3"
  },
  "language_info": {
   "codemirror_mode": {
    "name": "ipython",
    "version": 3
   },
   "file_extension": ".py",
   "mimetype": "text/x-python",
   "name": "python",
   "nbconvert_exporter": "python",
   "pygments_lexer": "ipython3",
   "version": "3.10.9"
  }
 },
 "nbformat": 4,
 "nbformat_minor": 2
}
