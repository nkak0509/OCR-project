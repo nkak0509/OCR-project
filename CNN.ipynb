{
  "nbformat": 4,
  "nbformat_minor": 0,
  "metadata": {
    "colab": {
      "provenance": [],
      "gpuType": "T4"
    },
    "kernelspec": {
      "name": "python3",
      "display_name": "Python 3"
    },
    "language_info": {
      "name": "python"
    },
    "accelerator": "GPU"
  },
  "cells": [
    {
      "cell_type": "code",
      "execution_count": 1,
      "metadata": {
        "colab": {
          "base_uri": "https://localhost:8080/"
        },
        "id": "MAkeYbHO_SfQ",
        "outputId": "705c38f0-ceb5-4c51-ad8b-b6ff340534f1"
      },
      "outputs": [
        {
          "output_type": "stream",
          "name": "stdout",
          "text": [
            "MyCNN(\n",
            "  (conv1): Conv2d(1, 32, kernel_size=(3, 3), stride=(1, 1))\n",
            "  (conv2): Conv2d(32, 64, kernel_size=(3, 3), stride=(1, 1))\n",
            "  (pool): MaxPool2d(kernel_size=2, stride=2, padding=0, dilation=1, ceil_mode=False)\n",
            "  (dropout): Dropout2d(p=0.25, inplace=False)\n",
            "  (fc1): Linear(in_features=9216, out_features=128, bias=True)\n",
            "  (fc2): Linear(in_features=128, out_features=10, bias=True)\n",
            ")\n"
          ]
        }
      ],
      "source": [
        "import torch\n",
        "import torch.nn as nn\n",
        "import torch.nn.functional as F\n",
        "\n",
        "class MyCNN(nn.Module):\n",
        "    def __init__(self):\n",
        "        super(MyCNN, self).__init__()\n",
        "        # First Convolutional layer\n",
        "        self.conv1 = nn.Conv2d(in_channels=1, out_channels=32, kernel_size=3)\n",
        "        # Second Convolutional layer\n",
        "        self.conv2 = nn.Conv2d(in_channels=32, out_channels=64, kernel_size=3)\n",
        "        # Max pooling layer\n",
        "        self.pool = nn.MaxPool2d(kernel_size=2, stride=2)\n",
        "        # Dropout layer\n",
        "        self.dropout = nn.Dropout2d(p=0.25)\n",
        "        # Fully connected layers\n",
        "        self.fc1 = nn.Linear(64 * 12 * 12, 128)  # Adjusted input size after max pooling\n",
        "        self.fc2 = nn.Linear(128, 10)  # Output layer with 10 classes (assuming it's a classification task)\n",
        "\n",
        "    def forward(self, x):\n",
        "        # First Convolutional layer followed by ReLU activation\n",
        "        x = F.relu(self.conv1(x))\n",
        "        # Second Convolutional layer followed by ReLU activation\n",
        "        x = F.relu(self.conv2(x))\n",
        "        # Max pooling layer\n",
        "        x = self.pool(x)\n",
        "        # Dropout layer\n",
        "        x = self.dropout(x)\n",
        "        # Flatten the output for the fully connected layers\n",
        "        x = x.view(-1, 64 * 12 * 12)\n",
        "        # First fully connected layer followed by ReLU activation\n",
        "        x = F.relu(self.fc1(x))\n",
        "        # Dropout layer\n",
        "        x = F.dropout(x, training=self.training)\n",
        "        # Output layer with softmax activation\n",
        "        x = self.fc2(x)\n",
        "        return F.softmax(x, dim=1)  # Applying softmax activation on output\n",
        "\n",
        "# Create an instance of the CNN model\n",
        "model = MyCNN()\n",
        "print(model)"
      ]
    },
    {
      "cell_type": "code",
      "source": [
        "import torch.optim as optim\n",
        "from torchvision import datasets, transforms\n",
        "from torch.utils.data import DataLoader\n",
        "\n",
        "# Define data transformations\n",
        "transform = transforms.Compose([\n",
        "    transforms.ToTensor(),  # Convert PIL image to tensor\n",
        "    transforms.Normalize((0.1307,), (0.3081,))  # Normalize the image data\n",
        "])\n",
        "\n",
        "# Load MNIST dataset\n",
        "train_dataset = datasets.MNIST('./data', train=True, download=True, transform=transform)\n",
        "train_loader = DataLoader(train_dataset, batch_size=64, shuffle=True)\n",
        "\n",
        "# Define your model\n",
        "model = MyCNN()\n",
        "\n",
        "# Define loss function and optimizer\n",
        "criterion = nn.CrossEntropyLoss()  # Cross-entropy loss for classification tasks\n",
        "optimizer = optim.SGD(model.parameters(), lr=0.01, momentum=0.9)\n",
        "\n",
        "# Training loop\n",
        "num_epochs = 5\n",
        "for epoch in range(num_epochs):\n",
        "    running_loss = 0.0\n",
        "    for i, (inputs, labels) in enumerate(train_loader):\n",
        "        # Zero the gradients\n",
        "        optimizer.zero_grad()\n",
        "\n",
        "        # Forward pass\n",
        "        outputs = model(inputs)\n",
        "\n",
        "        # Compute the loss\n",
        "        loss = criterion(outputs, labels)\n",
        "\n",
        "        # Backward pass and optimize\n",
        "        loss.backward()\n",
        "        optimizer.step()\n",
        "\n",
        "        # Print statistics\n",
        "        running_loss += loss.item()\n",
        "        if (i+1) % 100 == 0:    # Print every 100 mini-batches\n",
        "            print('[Epoch %d, Mini-batch %5d] Loss: %.3f' %\n",
        "                  (epoch + 1, i + 1, running_loss / 100))\n",
        "            running_loss = 0.0\n"
      ],
      "metadata": {
        "colab": {
          "base_uri": "https://localhost:8080/"
        },
        "id": "Q-OVJ0zp_U17",
        "outputId": "7c29af6a-c6ae-4f7f-8f65-44dad9cd622e"
      },
      "execution_count": 2,
      "outputs": [
        {
          "output_type": "stream",
          "name": "stdout",
          "text": [
            "Downloading http://yann.lecun.com/exdb/mnist/train-images-idx3-ubyte.gz\n",
            "Failed to download (trying next):\n",
            "HTTP Error 403: Forbidden\n",
            "\n",
            "Downloading https://ossci-datasets.s3.amazonaws.com/mnist/train-images-idx3-ubyte.gz\n",
            "Downloading https://ossci-datasets.s3.amazonaws.com/mnist/train-images-idx3-ubyte.gz to ./data/MNIST/raw/train-images-idx3-ubyte.gz\n"
          ]
        },
        {
          "output_type": "stream",
          "name": "stderr",
          "text": [
            "100%|██████████| 9912422/9912422 [00:03<00:00, 2837518.21it/s]\n"
          ]
        },
        {
          "output_type": "stream",
          "name": "stdout",
          "text": [
            "Extracting ./data/MNIST/raw/train-images-idx3-ubyte.gz to ./data/MNIST/raw\n",
            "\n",
            "Downloading http://yann.lecun.com/exdb/mnist/train-labels-idx1-ubyte.gz\n",
            "Failed to download (trying next):\n",
            "HTTP Error 403: Forbidden\n",
            "\n",
            "Downloading https://ossci-datasets.s3.amazonaws.com/mnist/train-labels-idx1-ubyte.gz\n",
            "Downloading https://ossci-datasets.s3.amazonaws.com/mnist/train-labels-idx1-ubyte.gz to ./data/MNIST/raw/train-labels-idx1-ubyte.gz\n"
          ]
        },
        {
          "output_type": "stream",
          "name": "stderr",
          "text": [
            "100%|██████████| 28881/28881 [00:00<00:00, 499059.42it/s]\n"
          ]
        },
        {
          "output_type": "stream",
          "name": "stdout",
          "text": [
            "Extracting ./data/MNIST/raw/train-labels-idx1-ubyte.gz to ./data/MNIST/raw\n",
            "\n",
            "Downloading http://yann.lecun.com/exdb/mnist/t10k-images-idx3-ubyte.gz\n",
            "Failed to download (trying next):\n",
            "HTTP Error 403: Forbidden\n",
            "\n",
            "Downloading https://ossci-datasets.s3.amazonaws.com/mnist/t10k-images-idx3-ubyte.gz\n",
            "Downloading https://ossci-datasets.s3.amazonaws.com/mnist/t10k-images-idx3-ubyte.gz to ./data/MNIST/raw/t10k-images-idx3-ubyte.gz\n"
          ]
        },
        {
          "output_type": "stream",
          "name": "stderr",
          "text": [
            "100%|██████████| 1648877/1648877 [00:01<00:00, 918675.17it/s] \n"
          ]
        },
        {
          "output_type": "stream",
          "name": "stdout",
          "text": [
            "Extracting ./data/MNIST/raw/t10k-images-idx3-ubyte.gz to ./data/MNIST/raw\n",
            "\n",
            "Downloading http://yann.lecun.com/exdb/mnist/t10k-labels-idx1-ubyte.gz\n",
            "Failed to download (trying next):\n",
            "HTTP Error 403: Forbidden\n",
            "\n",
            "Downloading https://ossci-datasets.s3.amazonaws.com/mnist/t10k-labels-idx1-ubyte.gz\n",
            "Downloading https://ossci-datasets.s3.amazonaws.com/mnist/t10k-labels-idx1-ubyte.gz to ./data/MNIST/raw/t10k-labels-idx1-ubyte.gz\n"
          ]
        },
        {
          "output_type": "stream",
          "name": "stderr",
          "text": [
            "100%|██████████| 4542/4542 [00:00<00:00, 4358391.39it/s]\n"
          ]
        },
        {
          "output_type": "stream",
          "name": "stdout",
          "text": [
            "Extracting ./data/MNIST/raw/t10k-labels-idx1-ubyte.gz to ./data/MNIST/raw\n",
            "\n",
            "[Epoch 1, Mini-batch   100] Loss: 2.038\n",
            "[Epoch 1, Mini-batch   200] Loss: 1.731\n",
            "[Epoch 1, Mini-batch   300] Loss: 1.694\n",
            "[Epoch 1, Mini-batch   400] Loss: 1.684\n",
            "[Epoch 1, Mini-batch   500] Loss: 1.670\n",
            "[Epoch 1, Mini-batch   600] Loss: 1.667\n",
            "[Epoch 1, Mini-batch   700] Loss: 1.652\n",
            "[Epoch 1, Mini-batch   800] Loss: 1.644\n",
            "[Epoch 1, Mini-batch   900] Loss: 1.635\n",
            "[Epoch 2, Mini-batch   100] Loss: 1.592\n",
            "[Epoch 2, Mini-batch   200] Loss: 1.574\n",
            "[Epoch 2, Mini-batch   300] Loss: 1.566\n",
            "[Epoch 2, Mini-batch   400] Loss: 1.562\n",
            "[Epoch 2, Mini-batch   500] Loss: 1.559\n",
            "[Epoch 2, Mini-batch   600] Loss: 1.548\n",
            "[Epoch 2, Mini-batch   700] Loss: 1.540\n",
            "[Epoch 2, Mini-batch   800] Loss: 1.538\n",
            "[Epoch 2, Mini-batch   900] Loss: 1.538\n",
            "[Epoch 3, Mini-batch   100] Loss: 1.527\n",
            "[Epoch 3, Mini-batch   200] Loss: 1.527\n",
            "[Epoch 3, Mini-batch   300] Loss: 1.523\n",
            "[Epoch 3, Mini-batch   400] Loss: 1.525\n",
            "[Epoch 3, Mini-batch   500] Loss: 1.513\n",
            "[Epoch 3, Mini-batch   600] Loss: 1.516\n",
            "[Epoch 3, Mini-batch   700] Loss: 1.513\n",
            "[Epoch 3, Mini-batch   800] Loss: 1.512\n",
            "[Epoch 3, Mini-batch   900] Loss: 1.510\n",
            "[Epoch 4, Mini-batch   100] Loss: 1.507\n",
            "[Epoch 4, Mini-batch   200] Loss: 1.507\n",
            "[Epoch 4, Mini-batch   300] Loss: 1.509\n",
            "[Epoch 4, Mini-batch   400] Loss: 1.505\n",
            "[Epoch 4, Mini-batch   500] Loss: 1.507\n",
            "[Epoch 4, Mini-batch   600] Loss: 1.504\n",
            "[Epoch 4, Mini-batch   700] Loss: 1.502\n",
            "[Epoch 4, Mini-batch   800] Loss: 1.505\n",
            "[Epoch 4, Mini-batch   900] Loss: 1.497\n",
            "[Epoch 5, Mini-batch   100] Loss: 1.498\n",
            "[Epoch 5, Mini-batch   200] Loss: 1.495\n",
            "[Epoch 5, Mini-batch   300] Loss: 1.500\n",
            "[Epoch 5, Mini-batch   400] Loss: 1.496\n",
            "[Epoch 5, Mini-batch   500] Loss: 1.497\n",
            "[Epoch 5, Mini-batch   600] Loss: 1.497\n",
            "[Epoch 5, Mini-batch   700] Loss: 1.497\n",
            "[Epoch 5, Mini-batch   800] Loss: 1.494\n",
            "[Epoch 5, Mini-batch   900] Loss: 1.495\n"
          ]
        }
      ]
    },
    {
      "cell_type": "code",
      "source": [
        "import matplotlib.pyplot as plt\n",
        "\n",
        "# Load MNIST validation dataset\n",
        "val_dataset = datasets.MNIST('./data', train=False, download=True, transform=transform)\n",
        "val_loader = DataLoader(val_dataset, batch_size=64, shuffle=False)\n",
        "\n",
        "# Set the model to evaluation mode\n",
        "model.eval()\n",
        "\n",
        "# Initialize variables for accuracy calculation\n",
        "correct = 0\n",
        "total = 0\n",
        "\n",
        "# Initialize lists to store images, labels, and predicted labels\n",
        "visualize_images_list = []\n",
        "labels_list = []\n",
        "predicted_labels_list = []\n",
        "\n",
        "# Evaluate the model on the validation set\n",
        "with torch.no_grad():  # Disable gradient tracking during validation\n",
        "    for images, labels in val_loader:\n",
        "        # Forward pass\n",
        "        outputs = model(images)\n",
        "        # Get the predicted labels\n",
        "        _, predicted = torch.max(outputs.data, 1)\n",
        "        # Calculate accuracy\n",
        "        total += labels.size(0)\n",
        "        correct += (predicted == labels).sum().item()\n",
        "        # Append images, labels, and predicted labels to lists for visualization\n",
        "        visualize_images_list.append(images)\n",
        "        labels_list.append(labels)\n",
        "        predicted_labels_list.append(predicted)\n",
        "\n",
        "# Calculate and print accuracy\n",
        "accuracy = 100 * correct / total\n",
        "print('Accuracy on the validation set: {:.2f}%'.format(accuracy))\n",
        "\n",
        "# Function to display a batch of images with their predicted labels\n",
        "def visualize_images(images, labels, predicted_labels, num_images=5):\n",
        "    fig, axes = plt.subplots(1, num_images, figsize=(15, 3))\n",
        "    for i in range(num_images):\n",
        "        ax = axes[i]\n",
        "        ax.imshow(images[i].squeeze(), cmap='gray')\n",
        "        ax.set_title(f'Predicted: {predicted_labels[i]}, Actual: {labels[i]}')\n",
        "        ax.axis('off')\n",
        "    plt.show()\n",
        "\n",
        "# Concatenate and convert lists to tensors\n",
        "visualize_images_tensor = torch.cat(visualize_images_list, dim=0)\n",
        "labels_tensor = torch.cat(labels_list, dim=0)\n",
        "predicted_labels_tensor = torch.cat(predicted_labels_list, dim=0)\n",
        "\n",
        "# Convert tensors to numpy arrays for visualization\n",
        "visualize_images_np = visualize_images_tensor.cpu().numpy()\n",
        "labels_np = labels_tensor.cpu().numpy()\n",
        "predicted_labels_np = predicted_labels_tensor.cpu().numpy()\n",
        "\n",
        "# Visualize a subset of images with their predicted labels\n",
        "visualize_images(visualize_images_np, labels_np, predicted_labels_np)\n"
      ],
      "metadata": {
        "colab": {
          "base_uri": "https://localhost:8080/",
          "height": 261
        },
        "id": "GSWF2DCtAU_4",
        "outputId": "32506198-a5c3-43d7-8ac6-aee4a8fe86f3"
      },
      "execution_count": 3,
      "outputs": [
        {
          "output_type": "stream",
          "name": "stdout",
          "text": [
            "Accuracy on the validation set: 97.94%\n"
          ]
        },
        {
          "output_type": "display_data",
          "data": {
            "text/plain": [
              "<Figure size 1500x300 with 5 Axes>"
            ],
            "image/png": "[encoded data removed]"
          },
          "metadata": {}
        }
      ]
    }
  ]
}